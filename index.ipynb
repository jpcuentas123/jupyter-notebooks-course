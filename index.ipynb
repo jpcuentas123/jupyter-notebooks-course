{
 "cells": [
  {
   "cell_type": "code",
   "execution_count": 1,
   "metadata": {},
   "outputs": [
    {
     "name": "stdout",
     "output_type": "stream",
     "text": [
      "Hello word\n"
     ]
    }
   ],
   "source": [
    "print(\"Hello word\")"
   ]
  },
  {
   "cell_type": "code",
   "execution_count": 3,
   "metadata": {},
   "outputs": [
    {
     "name": "stdout",
     "output_type": "stream",
     "text": [
      "Collecting session-info\n",
      "  Downloading session_info-1.0.0.tar.gz (24 kB)\n",
      "Collecting stdlib_list\n",
      "  Downloading stdlib_list-0.8.0-py3-none-any.whl (63 kB)\n",
      "\u001b[K     |████████████████████████████████| 63 kB 649 kB/s eta 0:00:01\n",
      "\u001b[?25hBuilding wheels for collected packages: session-info\n",
      "  Building wheel for session-info (setup.py) ... \u001b[?25ldone\n",
      "\u001b[?25h  Created wheel for session-info: filename=session_info-1.0.0-py3-none-any.whl size=8045 sha256=d43daf5468b37986778a57a92d916594e41a16f763cd7727babbb238302c3e75\n",
      "  Stored in directory: /home/jpcuentas/.cache/pip/wheels/5c/1b/4d/111d73980c5c6a8e5e5905a19eccc34296cb359cac54c6c5b9\n",
      "Successfully built session-info\n",
      "Installing collected packages: stdlib-list, session-info\n",
      "Successfully installed session-info-1.0.0 stdlib-list-0.8.0\n",
      "Note: you may need to restart the kernel to use updated packages.\n"
     ]
    }
   ],
   "source": [
    "%pip install session-info"
   ]
  },
  {
   "cell_type": "code",
   "execution_count": 4,
   "metadata": {},
   "outputs": [],
   "source": [
    "import session_info"
   ]
  },
  {
   "cell_type": "code",
   "execution_count": 6,
   "metadata": {},
   "outputs": [
    {
     "data": {
      "text/html": [
       "<details>\n",
       "<summary>Click to view session information</summary>\n",
       "<pre>\n",
       "-----\n",
       "session_info        1.0.0\n",
       "-----\n",
       "</pre>\n",
       "<details>\n",
       "<summary>Click to view modules imported as dependencies</summary>\n",
       "<pre>\n",
       "apport_python_hook  NA\n",
       "asttokens           NA\n",
       "backcall            0.2.0\n",
       "colorama            0.4.3\n",
       "cython_runtime      NA\n",
       "dateutil            2.8.2\n",
       "debugpy             1.6.0\n",
       "decorator           5.1.1\n",
       "entrypoints         0.3\n",
       "executing           0.8.3\n",
       "ipykernel           6.13.0\n",
       "jedi                0.18.1\n",
       "packaging           21.3\n",
       "parso               0.8.3\n",
       "pexpect             4.6.0\n",
       "pickleshare         0.7.5\n",
       "pkg_resources       NA\n",
       "prompt_toolkit      3.0.29\n",
       "psutil              5.9.0\n",
       "ptyprocess          0.6.0\n",
       "pure_eval           0.2.2\n",
       "pydev_ipython       NA\n",
       "pydevconsole        NA\n",
       "pydevd              2.8.0\n",
       "pydevd_file_utils   NA\n",
       "pydevd_plugins      NA\n",
       "pydevd_tracing      NA\n",
       "pygments            2.11.2\n",
       "sitecustomize       NA\n",
       "six                 1.14.0\n",
       "stack_data          0.2.0\n",
       "tornado             6.1\n",
       "traitlets           5.1.1\n",
       "wcwidth             0.2.5\n",
       "zmq                 22.3.0\n",
       "zope                NA\n",
       "</pre>\n",
       "</details> <!-- seems like this ends pre, so might as well be explicit -->\n",
       "<pre>\n",
       "-----\n",
       "IPython             8.2.0\n",
       "jupyter_client      7.2.2\n",
       "jupyter_core        4.9.2\n",
       "-----\n",
       "Python 3.8.10 (default, Mar 15 2022, 12:22:08) [GCC 9.4.0]\n",
       "Linux-5.4.72-microsoft-standard-WSL2-x86_64-with-glibc2.29\n",
       "-----\n",
       "Session information updated at 2022-04-17 16:45\n",
       "</pre>\n",
       "</details>"
      ],
      "text/plain": [
       "<IPython.core.display.HTML object>"
      ]
     },
     "execution_count": 6,
     "metadata": {},
     "output_type": "execute_result"
    }
   ],
   "source": [
    "session_info.show()"
   ]
  },
  {
   "cell_type": "code",
   "execution_count": null,
   "metadata": {},
   "outputs": [],
   "source": []
  }
 ],
 "metadata": {
  "interpreter": {
   "hash": "31f2aee4e71d21fbe5cf8b01ff0e069b9275f58929596ceb00d14d90e3e16cd6"
  },
  "kernelspec": {
   "display_name": "Python 3.8.10 64-bit",
   "language": "python",
   "name": "python3"
  },
  "language_info": {
   "codemirror_mode": {
    "name": "ipython",
    "version": 3
   },
   "file_extension": ".py",
   "mimetype": "text/x-python",
   "name": "python",
   "nbconvert_exporter": "python",
   "pygments_lexer": "ipython3",
   "version": "3.8.10"
  },
  "orig_nbformat": 4
 },
 "nbformat": 4,
 "nbformat_minor": 2
}
